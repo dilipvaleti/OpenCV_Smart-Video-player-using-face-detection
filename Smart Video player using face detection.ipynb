{
 "cells": [
  {
   "cell_type": "code",
   "execution_count": 16,
   "metadata": {},
   "outputs": [],
   "source": [
    "import cv2\n",
    "import keyboard\n",
    "face_cascade=cv2.CascadeClassifier('haarcascade_frontalface_default.xml')\n",
    "eye_casade=cv2.CascadeClassifier('haarcascade_eye.xml')\n",
    "cap=cv2.VideoCapture(0)\n",
    "prev_state=False\n",
    "curr_state=False\n",
    "\n",
    "while True:\n",
    "    ret,frame=cap.read()\n",
    "    if not ret:\n",
    "        break\n",
    "    prev_state=curr_state\n",
    "    curr_state=False\n",
    "    \n",
    "    gray=cv2.cvtColor(frame,cv2.COLOR_BGR2GRAY)\n",
    "    faces=face_cascade.detectMultiScale(gray,1.1,5)\n",
    "    for (x,y,w,h) in faces:\n",
    "        cv2.rectangle(frame,(x,y),(x+w,y+h),(0,0,255),6)\n",
    "    \n",
    "        cropped_face=frame[y:y+h,x:x+w]#crop the face from the img\n",
    "        cropped_face_gray=gray[y:y+h,x:x+w] #  crop the face from gray img\n",
    "    \n",
    "        eyes=eye_casade.detectMultiScale(cropped_face_gray,1.1,5)\n",
    "        for (ex,ey,ew,eh) in eyes:\n",
    "            curr_state=True\n",
    "            cv2.rectangle(cropped_face,(ex,ey),(ex+ew,ey+eh),(0,255,0),2)\n",
    "        if prev_state == False and curr_state== True:\n",
    "            keyboard.send('u') # resume\n",
    "            \n",
    "        if prev_state == True and curr_state== False: \n",
    "            keyboard.send('y') # pause\n",
    "    cv2.imshow(\"face detection\",cv2.resize(frame,(300,200)))\n",
    "    \n",
    "    k=cv2.waitKey(10)\n",
    "    if k == ord('q'):\n",
    "        cap.release()\n",
    "        cv2.destroyAllWindows()\n",
    "        break\n",
    "        "
   ]
  },
  {
   "cell_type": "code",
   "execution_count": null,
   "metadata": {},
   "outputs": [],
   "source": []
  }
 ],
 "metadata": {
  "kernelspec": {
   "display_name": "Python 3",
   "language": "python",
   "name": "python3"
  },
  "language_info": {
   "codemirror_mode": {
    "name": "ipython",
    "version": 3
   },
   "file_extension": ".py",
   "mimetype": "text/x-python",
   "name": "python",
   "nbconvert_exporter": "python",
   "pygments_lexer": "ipython3",
   "version": "3.7.3"
  }
 },
 "nbformat": 4,
 "nbformat_minor": 2
}
